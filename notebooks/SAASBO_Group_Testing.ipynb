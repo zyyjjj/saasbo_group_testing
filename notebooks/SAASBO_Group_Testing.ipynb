{
 "cells": [
  {
   "cell_type": "code",
   "execution_count": 2,
   "id": "eaf497a3",
   "metadata": {},
   "outputs": [],
   "source": [
    "%load_ext autoreload\n",
    "%autoreload 2\n",
    "\n",
    "from typing import Optional\n",
    "\n",
    "import torch\n",
    "from botorch.models import FixedNoiseGP\n",
    "from botorch.optim.fit import fit_gpytorch_scipy\n",
    "from botorch.fit import fit_fully_bayesian_model_nuts\n",
    "from botorch.test_functions import Branin, Hartmann\n",
    "from gpytorch.kernels import Kernel, MaternKernel, ScaleKernel\n",
    "from gpytorch.mlls import ExactMarginalLogLikelihood\n",
    "from gpytorch.priors import HalfCauchyPrior"
   ]
  },
  {
   "cell_type": "code",
   "execution_count": 3,
   "id": "4322f758",
   "metadata": {},
   "outputs": [],
   "source": [
    "tkwargs = {\n",
    "    \"device\": torch.device(\"cuda\" if torch.cuda.is_available() else \"cpu\"),\n",
    "    \"dtype\": torch.double,\n",
    "}"
   ]
  },
  {
   "cell_type": "code",
   "execution_count": 4,
   "id": "22f32178",
   "metadata": {},
   "outputs": [],
   "source": [
    "class SaasPriorHelper:\n",
    "    \"\"\"Helper class for specifying parameter and setting closures.\"\"\"\n",
    "\n",
    "    def __init__(self, tau: Optional[float] = None):\n",
    "        self._tau = tau\n",
    "\n",
    "    def tau(self, m):\n",
    "        return (\n",
    "            self._tau\n",
    "            if self._tau is not None\n",
    "            else m.raw_tau_constraint.transform(m.raw_tau)\n",
    "        )\n",
    "\n",
    "    def inv_lengthscale_prior_param_or_closure(self, m):\n",
    "        return self.tau(m) / (m.lengthscale ** 2)\n",
    "\n",
    "    def inv_lengthscale_prior_setting_closure(self, m, value):\n",
    "        lb = m.raw_lengthscale_constraint.lower_bound\n",
    "        ub = m.raw_lengthscale_constraint.upper_bound\n",
    "        m._set_lengthscale((self.tau(m) / value).sqrt().clamp(lb, ub))\n",
    "\n",
    "    def tau_prior_param_or_closure(self, m):\n",
    "        return m.raw_tau_constraint.transform(m.raw_tau)\n",
    "\n",
    "    def tau_prior_setting_closure(self, m, value):\n",
    "        lb = m.raw_tau_constraint.lower_bound\n",
    "        ub = m.raw_tau_constraint.upper_bound\n",
    "        m.raw_tau.data.fill_(\n",
    "            m.raw_tau_constraint.inverse_transform(value.clamp(lb, ub)).item()\n",
    "        )"
   ]
  },
  {
   "cell_type": "code",
   "execution_count": 5,
   "id": "bbe64e80",
   "metadata": {},
   "outputs": [],
   "source": [
    "def add_saas_prior(\n",
    "    base_kernel: Kernel, tau: Optional[float] = 0.1, **tkwargs\n",
    ") -> Kernel:\n",
    "    if not base_kernel.has_lengthscale:\n",
    "        raise UnsupportedError(\"base_kernel must have lengthscale(s)\")\n",
    "    if hasattr(base_kernel, \"lengthscale_prior\"):\n",
    "        raise UnsupportedError(\"base_kernel must not specify a lengthscale prior\")\n",
    "    prior_helper = SaasPriorHelper(tau=tau)\n",
    "    base_kernel.register_prior(\n",
    "        name=\"inv_lengthscale_prior\",\n",
    "        prior=HalfCauchyPrior(torch.tensor(1.0, **tkwargs)),\n",
    "        param_or_closure=prior_helper.inv_lengthscale_prior_param_or_closure,\n",
    "        setting_closure=prior_helper.inv_lengthscale_prior_setting_closure,\n",
    "    )\n",
    "    return base_kernel"
   ]
  },
  {
   "cell_type": "code",
   "execution_count": 5,
   "id": "bef546cd",
   "metadata": {},
   "outputs": [],
   "source": [
    "branin = Branin().to(**tkwargs)\n",
    "\n",
    "\n",
    "def branin_emb(x):\n",
    "    \"\"\"x is assumed to be in [0, 1]^d; only first two entries matter\"\"\"\n",
    "    lb, ub = branin.bounds\n",
    "    return branin(lb + (ub - lb) * x[..., :2])\n",
    "\n"
   ]
  },
  {
   "cell_type": "code",
   "execution_count": 6,
   "id": "3f6d7166",
   "metadata": {},
   "outputs": [],
   "source": [
    "D = 100\n",
    "# initialize train_X data to be at the middle of the domain\n",
    "train_X = 0.5 * torch.ones(3, D, **tkwargs)\n",
    "# perturb the first dimension of the second point\n",
    "train_X[1, 0] = torch.rand(1, **tkwargs)\n",
    "# perturb the second dimension of the third point\n",
    "train_X[2, 1] = torch.rand(1, **tkwargs)\n",
    "train_Y = branin_emb(train_X).unsqueeze(-1)\n",
    "train_Y = (train_Y - train_Y.mean()) / train_Y.std()"
   ]
  },
  {
   "cell_type": "code",
   "execution_count": 7,
   "id": "0b5b6196",
   "metadata": {},
   "outputs": [
    {
     "name": "stdout",
     "output_type": "stream",
     "text": [
      "tensor([[7.4440e-01, 9.0796e-01, 1.0000e+03, 1.0000e+03, 1.0000e+03, 1.0000e+03,\n",
      "         1.0000e+03, 1.0000e+03, 1.0000e+03, 1.0000e+03, 1.0000e+03, 1.0000e+03,\n",
      "         1.0000e+03, 1.0000e+03, 1.0000e+03, 1.0000e+03, 1.0000e+03, 1.0000e+03,\n",
      "         1.0000e+03, 1.0000e+03, 1.0000e+03, 1.0000e+03, 1.0000e+03, 1.0000e+03,\n",
      "         1.0000e+03, 1.0000e+03, 1.0000e+03, 1.0000e+03, 1.0000e+03, 1.0000e+03,\n",
      "         1.0000e+03, 1.0000e+03, 1.0000e+03, 1.0000e+03, 1.0000e+03, 1.0000e+03,\n",
      "         1.0000e+03, 1.0000e+03, 1.0000e+03, 1.0000e+03, 1.0000e+03, 1.0000e+03,\n",
      "         1.0000e+03, 1.0000e+03, 1.0000e+03, 1.0000e+03, 1.0000e+03, 1.0000e+03,\n",
      "         1.0000e+03, 1.0000e+03, 1.0000e+03, 1.0000e+03, 1.0000e+03, 1.0000e+03,\n",
      "         1.0000e+03, 1.0000e+03, 1.0000e+03, 1.0000e+03, 1.0000e+03, 1.0000e+03,\n",
      "         1.0000e+03, 1.0000e+03, 1.0000e+03, 1.0000e+03, 1.0000e+03, 1.0000e+03,\n",
      "         1.0000e+03, 1.0000e+03, 1.0000e+03, 1.0000e+03, 1.0000e+03, 1.0000e+03,\n",
      "         1.0000e+03, 1.0000e+03, 1.0000e+03, 1.0000e+03, 1.0000e+03, 1.0000e+03,\n",
      "         1.0000e+03, 1.0000e+03, 1.0000e+03, 1.0000e+03, 1.0000e+03, 1.0000e+03,\n",
      "         1.0000e+03, 1.0000e+03, 1.0000e+03, 1.0000e+03, 1.0000e+03, 1.0000e+03,\n",
      "         1.0000e+03, 1.0000e+03, 1.0000e+03, 1.0000e+03, 1.0000e+03, 1.0000e+03,\n",
      "         1.0000e+03, 1.0000e+03, 1.0000e+03, 1.0000e+03]], dtype=torch.float64,\n",
      "       grad_fn=<SoftplusBackward0>)\n"
     ]
    }
   ],
   "source": [
    "base_kernel = MaternKernel(ard_num_dims=D)\n",
    "add_saas_prior(base_kernel, tau=0.1)\n",
    "covar_module = ScaleKernel(base_kernel)\n",
    "gp = FixedNoiseGP(\n",
    "    train_X=train_X,\n",
    "    train_Y=train_Y,\n",
    "    train_Yvar=1e-6 * torch.ones_like(train_Y),\n",
    "    covar_module=covar_module,\n",
    ")\n",
    "mll = ExactMarginalLogLikelihood(model=gp, likelihood=gp.likelihood)\n",
    "base_kernel._set_lengthscale(1e3)  # Initialize to 1e3, i.e., all being unimportant\n",
    "fit_gpytorch_scipy(\n",
    "    mll, bounds={\"model.covar_module.base_kernel.raw_lengthscale\": [0.1, 1e3]}\n",
    ")\n",
    "\n",
    "print(gp.covar_module.base_kernel.lengthscale)"
   ]
  },
  {
   "cell_type": "code",
   "execution_count": 8,
   "id": "a2f00e21",
   "metadata": {},
   "outputs": [
    {
     "data": {
      "text/plain": [
       "{'training': True,\n",
       " '_parameters': OrderedDict(),\n",
       " '_buffers': OrderedDict(),\n",
       " '_non_persistent_buffers_set': set(),\n",
       " '_backward_hooks': OrderedDict(),\n",
       " '_is_full_backward_hook': None,\n",
       " '_forward_hooks': OrderedDict(),\n",
       " '_forward_pre_hooks': OrderedDict(),\n",
       " '_state_dict_hooks': OrderedDict(),\n",
       " '_load_state_dict_pre_hooks': OrderedDict([(3,\n",
       "               <bound method Module._load_state_hook_ignore_shapes of FixedNoiseGaussianLikelihood(\n",
       "                 (noise_covar): FixedGaussianNoise()\n",
       "               )>)]),\n",
       " '_modules': OrderedDict([('noise_covar', FixedGaussianNoise())]),\n",
       " '_added_loss_terms': OrderedDict(),\n",
       " '_priors': OrderedDict(),\n",
       " '_constraints': OrderedDict(),\n",
       " '_strict_init': True,\n",
       " '_load_strict_shapes': True,\n",
       " 'max_plate_nesting': 1,\n",
       " 'second_noise_covar': None}"
      ]
     },
     "execution_count": 8,
     "metadata": {},
     "output_type": "execute_result"
    }
   ],
   "source": [
    "gp.likelihood.__dict__"
   ]
  },
  {
   "cell_type": "code",
   "execution_count": 44,
   "id": "d3813dbd",
   "metadata": {},
   "outputs": [
    {
     "data": {
      "text/plain": [
       "tensor([ 0.0290,  0.9852, -1.0142], dtype=torch.float64)"
      ]
     },
     "execution_count": 44,
     "metadata": {},
     "output_type": "execute_result"
    }
   ],
   "source": [
    "train_Y.squeeze(1)"
   ]
  },
  {
   "cell_type": "code",
   "execution_count": 15,
   "id": "05768809",
   "metadata": {},
   "outputs": [
    {
     "data": {
      "text/plain": [
       "<bound method TorchDistributionMixin.shape of MultivariateNormal(loc: torch.Size([3]))>"
      ]
     },
     "execution_count": 15,
     "metadata": {},
     "output_type": "execute_result"
    }
   ],
   "source": [
    "gp(train_X).shape"
   ]
  },
  {
   "cell_type": "code",
   "execution_count": 9,
   "id": "0c06db16",
   "metadata": {},
   "outputs": [
    {
     "data": {
      "text/plain": [
       "{'loc': tensor([-0.1881,  1.0807, -0.8926], dtype=torch.float64),\n",
       " 'scale': tensor([0.0010, 0.0010, 0.0010], dtype=torch.float64),\n",
       " '_batch_shape': torch.Size([3]),\n",
       " '_event_shape': torch.Size([])}"
      ]
     },
     "execution_count": 9,
     "metadata": {},
     "output_type": "execute_result"
    }
   ],
   "source": [
    "gp.likelihood(train_Y.squeeze(1)).__dict__"
   ]
  },
  {
   "cell_type": "code",
   "execution_count": 10,
   "id": "96fca120",
   "metadata": {},
   "outputs": [
    {
     "data": {
      "text/plain": [
       "{'loc': tensor([10., 20., 30.]),\n",
       " 'scale': tensor([0.0010, 0.0010, 0.0010], dtype=torch.float64),\n",
       " '_batch_shape': torch.Size([3]),\n",
       " '_event_shape': torch.Size([])}"
      ]
     },
     "execution_count": 10,
     "metadata": {},
     "output_type": "execute_result"
    }
   ],
   "source": [
    "gp.likelihood(torch.tensor([10.0, 20.0, 30.0])).__dict__"
   ]
  },
  {
   "cell_type": "code",
   "execution_count": 11,
   "id": "8e9f2069",
   "metadata": {},
   "outputs": [
    {
     "data": {
      "text/plain": [
       "tensor([-0.1881,  1.0807, -0.8926], dtype=torch.float64)"
      ]
     },
     "execution_count": 11,
     "metadata": {},
     "output_type": "execute_result"
    }
   ],
   "source": [
    "gp.likelihood(train_Y.squeeze(1)).mean"
   ]
  },
  {
   "cell_type": "code",
   "execution_count": 12,
   "id": "6611e37f",
   "metadata": {},
   "outputs": [
    {
     "data": {
      "text/plain": [
       "tensor([0.0945, 0.0945, 0.0945], dtype=torch.float64,\n",
       "       grad_fn=<ExpandBackward0>)"
      ]
     },
     "execution_count": 12,
     "metadata": {},
     "output_type": "execute_result"
    }
   ],
   "source": [
    "gp.likelihood(gp(train_X)).mean"
   ]
  },
  {
   "cell_type": "code",
   "execution_count": 23,
   "id": "85ad1741",
   "metadata": {},
   "outputs": [
    {
     "data": {
      "text/plain": [
       "tensor([-0.0293, -0.0293, -0.0293], dtype=torch.float64,\n",
       "       grad_fn=<ExpandBackward0>)"
      ]
     },
     "execution_count": 23,
     "metadata": {},
     "output_type": "execute_result"
    }
   ],
   "source": [
    "gp(train_X).mean"
   ]
  },
  {
   "cell_type": "code",
   "execution_count": 27,
   "id": "4793de16",
   "metadata": {},
   "outputs": [
    {
     "data": {
      "text/plain": [
       "tensor([[ 0.0290],\n",
       "        [ 0.9852],\n",
       "        [-1.0142]], dtype=torch.float64, grad_fn=<UnsqueezeBackward0>)"
      ]
     },
     "execution_count": 27,
     "metadata": {},
     "output_type": "execute_result"
    }
   ],
   "source": [
    "gp.posterior(train_X).mean"
   ]
  },
  {
   "cell_type": "code",
   "execution_count": null,
   "id": "7a7ad670",
   "metadata": {},
   "outputs": [],
   "source": [
    "hartmann = Hartmann().to(**tkwargs)\n",
    "\n",
    "\n",
    "def hartmann_emb(x):\n",
    "    \"\"\"x is assumed to be in [0, 1]^d; only first two entries matter\"\"\"\n",
    "    lb, ub = hartmann.bounds\n",
    "    return hartmann(lb + (ub - lb) * x[..., :6])\n",
    "\n",
    "\n",
    "# train_X = 0.5 * torch.ones(7, D, **tkwargs)\n",
    "# # for i in range(6):\n",
    "# #     train_X[i+1, i] = torch.rand(1, **tkwargs)"
   ]
  },
  {
   "cell_type": "code",
   "execution_count": 24,
   "id": "23266c8c",
   "metadata": {},
   "outputs": [
    {
     "name": "stdout",
     "output_type": "stream",
     "text": [
      "tensor([78, 39, 34, 85, 72, 10, 74, 95, 47, 50, 40,  4,  8, 14, 90,  3, 17, 61,\n",
      "        89, 66])\n",
      "tensor([20, 33,  8, 98,  7, 87, 23, 57, 45, 18, 51, 70, 41, 74, 11, 24, 71, 62,\n",
      "        99, 68])\n",
      "tensor([59, 14, 61, 17, 29, 85, 62, 18, 26, 89, 68, 28, 42, 27, 39, 49,  3, 72,\n",
      "        77, 11])\n",
      "tensor([80, 11, 73, 94, 26, 17, 64, 61, 89, 16, 71,  3, 92, 58, 18, 95, 10, 28,\n",
      "        54,  7])\n",
      "tensor([27, 59, 57, 45,  7, 61,  3, 92, 51, 98, 30,  5, 89, 76, 18, 96, 86, 20,\n",
      "        16, 47])\n",
      "tensor([26, 55, 47, 63, 25, 34, 31, 22, 37, 58, 75, 87, 96, 70, 61, 14, 53, 12,\n",
      "        35, 68])\n",
      "tensor([90, 16, 18,  9, 41, 29, 84, 23, 74, 36, 79, 99, 35, 30, 96, 91, 71, 89,\n",
      "        58, 67])\n",
      "tensor([77, 63, 21, 55, 39, 92, 76, 56,  6,  0, 97, 30, 60, 36, 62, 45, 70, 10,\n",
      "        89, 12])\n",
      "tensor([91, 14,  6, 45,  4, 85, 96, 22, 95, 37, 17, 79, 10, 42, 29, 68, 67, 56,\n",
      "        23, 73])\n",
      "tensor([80, 82, 34,  2, 30, 93, 99, 14, 25, 67, 88, 98,  7,  8, 36, 10, 21,  4,\n",
      "        52, 84])\n",
      "tensor([44, 42, 83, 20, 43, 98, 12, 54, 96,  8, 74, 32, 38,  4, 40, 23, 22, 73,\n",
      "        18, 27])\n",
      "tensor([94, 25, 24, 79, 51, 37, 64, 57, 41, 35, 62, 16, 59, 14, 50, 36,  3, 65,\n",
      "         4, 32])\n",
      "tensor([41, 94, 11, 32, 17, 56, 40, 87, 36, 90, 31, 77, 45,  9, 97, 39, 20, 38,\n",
      "        86, 51])\n",
      "tensor([59, 78, 94, 31, 19, 77, 80, 54, 10, 63, 57, 35, 39, 60, 62, 73, 14,  0,\n",
      "        45, 92])\n",
      "tensor([47, 74, 68, 88, 63, 51, 25, 41, 45,  3, 99, 93, 20, 33, 91, 77, 58, 28,\n",
      "        15, 49])\n",
      "tensor([19, 92, 29, 63, 61, 47, 11, 51, 86, 62, 88, 79, 97, 65, 54, 99, 39,  0,\n",
      "        10, 37])\n",
      "tensor([86, 10, 24, 85, 64,  8, 78, 59, 13, 88, 60, 96, 73, 57, 49, 74, 67, 82,\n",
      "        37, 56])\n",
      "tensor([58, 21, 61, 31, 33, 73,  9, 70, 75, 83, 64, 80, 92,  4, 23, 84, 91, 56,\n",
      "        12,  7])\n",
      "tensor([ 0, 71, 24, 75, 41, 92, 55,  7, 23, 57, 43, 11, 39, 68, 19,  4, 27, 10,\n",
      "        28, 96])\n",
      "tensor([98, 66, 71, 27, 32, 39, 50, 87, 21,  4, 23,  1,  8, 18, 20, 19, 69, 16,\n",
      "        75, 97])\n",
      "tensor([26, 37, 70, 17, 82, 91, 48, 61, 32, 78, 34, 60, 18, 89, 88,  4, 98, 67,\n",
      "        21, 13])\n",
      "tensor([62, 54, 88, 43, 25, 52, 80, 78, 97, 21, 74, 35, 42, 79, 12,  5, 24, 49,\n",
      "        20, 89])\n",
      "tensor([ 3, 78, 41, 99, 68, 88, 40, 90, 38, 13,  8, 82, 75, 47, 52, 15, 31, 74,\n",
      "        22, 14])\n",
      "tensor([58,  6, 74, 76, 12, 81, 61, 78, 94, 48,  1, 13, 25,  2, 15, 84, 52, 57,\n",
      "        55, 33])\n",
      "tensor([20, 35, 84, 66, 96, 13, 58, 61, 56, 93, 86, 29, 14, 46, 92, 40, 91, 72,\n",
      "        24, 79])\n",
      "tensor([32, 29, 71, 92, 16, 93,  3, 52, 62, 95, 20, 63, 13, 67, 58, 57, 94, 45,\n",
      "        65, 34])\n",
      "tensor([37, 69, 99, 77, 45, 72, 22, 46, 43, 11,  4, 81, 86,  6, 89, 10, 82, 91,\n",
      "        68, 70])\n",
      "tensor([73, 67, 55, 74, 78, 56, 61, 39, 94, 46,  8, 37, 32,  5, 53, 84, 69,  6,\n",
      "        27, 35])\n",
      "tensor([60, 50, 30, 85,  2, 63, 90, 65, 27,  1, 41, 78,  4, 95, 87, 71, 33, 81,\n",
      "        38, 55])\n",
      "tensor([27, 48, 17, 24, 10, 46, 93, 64, 35, 26, 84,  9, 79, 58, 95,  0, 52, 76,\n",
      "        21, 74])\n",
      "tensor([73, 34, 88, 23, 33, 22, 36, 31, 92, 32, 67, 79, 70, 77, 55,  9, 11, 54,\n",
      "        10, 98])\n",
      "tensor([80, 58, 34, 59, 49, 42, 38, 76, 55, 93, 17,  4, 83, 81,  2, 66, 23, 10,\n",
      "        73, 64])\n",
      "tensor([33, 29, 39, 55, 19, 74, 49, 58, 22, 37, 64, 71, 15, 50, 79, 82, 63,  6,\n",
      "        31, 81])\n",
      "tensor([38, 23, 77, 85, 73,  1, 45,  0, 27, 39,  9, 82, 17,  6,  4, 26, 32, 75,\n",
      "        33, 97])\n",
      "tensor([43, 29,  8, 44, 88, 92, 63, 67,  9, 52,  0, 62, 95, 66,  7, 21,  3, 85,\n",
      "        40, 53])\n",
      "tensor([ 4, 39, 60, 85, 97, 69, 95, 28, 68, 74,  8,  3, 92, 31, 36, 12, 18, 88,\n",
      "        35, 29])\n",
      "tensor([63, 74, 71,  2, 49,  5, 52, 13, 88, 40, 61, 41, 65, 68, 83, 59, 97, 76,\n",
      "         3, 85])\n",
      "tensor([25, 36, 58,  3, 70, 72, 98, 62, 89, 53, 40, 91, 66,  5, 32, 18, 49, 88,\n",
      "        27, 80])\n",
      "tensor([70, 37, 79, 31, 40, 50, 46, 65, 61, 87, 94, 93, 71, 60, 33, 82, 27, 19,\n",
      "        89, 18])\n",
      "tensor([68, 94, 71,  7, 26, 73, 21, 75, 20, 33, 45,  8,  2, 49, 74, 78,  0,  3,\n",
      "        40, 81])\n",
      "tensor([92, 10, 72, 18, 84, 70, 29, 14, 13,  8, 65, 90, 46, 17, 88, 67, 56, 97,\n",
      "        96, 42])\n",
      "tensor([20, 87, 54, 71, 41, 70, 23, 92, 37, 45, 85, 65, 63, 77, 82, 60, 10, 91,\n",
      "        21, 19])\n",
      "tensor([17, 49, 65, 23, 95, 39,  1, 11, 85, 48,  4, 88, 56, 37, 41, 61, 30, 45,\n",
      "        89, 81])\n",
      "tensor([83, 28, 55, 29, 70, 77, 69,  4, 79, 61, 11, 86, 15, 94, 56, 17,  7, 47,\n",
      "        20, 30])\n",
      "tensor([22, 66, 71, 19, 12, 75, 49, 18, 28, 80,  2, 96, 45, 35, 13, 17, 52,  4,\n",
      "        56, 87])\n",
      "tensor([82, 22, 39, 70, 13, 16,  3, 85, 65, 51, 44, 96, 11, 35, 31, 84,  1, 78,\n",
      "        88, 80])\n",
      "tensor([38, 77, 27, 47, 12,  4, 50, 31, 73, 80, 74, 66,  0, 46, 93, 55, 83,  8,\n",
      "        40, 15])\n",
      "tensor([ 0,  5, 19, 14, 78, 60, 28, 98, 94, 58, 67, 96, 76, 56, 37, 84, 61, 21,\n",
      "        83, 16])\n",
      "tensor([25, 33, 14, 55, 32, 61, 11, 69, 31,  1, 95, 79, 42, 43, 51, 28, 70, 64,\n",
      "        62, 13])\n",
      "tensor([37, 86, 84, 95, 21, 30, 10,  6, 20, 44,  1, 87, 71, 77, 26, 42, 32,  9,\n",
      "         7, 57])\n"
     ]
    }
   ],
   "source": [
    "\n",
    "D = 100 # input dimension\n",
    "N=50 # number of perturbing samples\n",
    "\n",
    "# initialize train_X data to be at the middle of the domain\n",
    "train_X = 0.5 * torch.ones(N+1, D, **tkwargs)\n",
    "\n",
    "for i in range(N):\n",
    "    indices = torch.randperm(D)[:D//5]\n",
    "    print(indices)\n",
    "    train_X[i+1, indices] = torch.rand(D//5, **tkwargs)\n",
    "    # train_X[i+1, indices] = torch.ones(D//5, **tkwargs)\n",
    "\n",
    "train_Y = hartmann_emb(train_X).unsqueeze(-1)\n",
    "train_Y = (train_Y - train_Y.mean()) / train_Y.std()"
   ]
  },
  {
   "cell_type": "code",
   "execution_count": 25,
   "id": "9e6db1a7",
   "metadata": {},
   "outputs": [
    {
     "name": "stdout",
     "output_type": "stream",
     "text": [
      "tensor([[6.4332e+00, 2.6280e+00, 9.5749e+02, 7.4892e-01, 1.2785e+01, 9.7170e+02,\n",
      "         7.7925e+02, 9.7949e+02, 9.7670e+02, 9.3122e+02, 7.7949e+02, 7.6029e+02,\n",
      "         7.4440e-01, 9.6105e+02, 7.8345e+02, 9.0409e+02, 9.4696e+02, 7.4440e-01,\n",
      "         9.8873e+02, 9.9227e+02, 8.5627e+02, 1.7841e+01, 9.2891e+02, 4.6126e+02,\n",
      "         8.5884e+02, 9.8534e+02, 9.1189e+02, 9.2355e+02, 6.0401e+02, 7.8146e+02,\n",
      "         9.9551e+02, 7.4788e+02, 9.0212e+02, 8.7871e+02, 9.1751e+02, 9.9242e+02,\n",
      "         9.4734e+02, 4.4974e+01, 4.3836e+02, 9.5027e+02, 9.5991e+02, 9.7965e+02,\n",
      "         8.3798e+02, 6.9584e+02, 8.8110e+02, 9.7401e+02, 9.7575e+02, 8.4065e+02,\n",
      "         8.1021e+02, 8.4079e+02, 9.2534e+02, 9.9446e+02, 5.4891e+02, 9.0335e+02,\n",
      "         9.9014e+02, 9.8309e+02, 7.5944e+01, 9.9562e+02, 9.8161e+02, 6.3233e+02,\n",
      "         8.3698e+02, 1.5523e+01, 9.4270e+02, 8.7397e+02, 8.6735e+02, 1.9209e+01,\n",
      "         9.2408e+02, 7.7692e+02, 9.3174e+02, 4.0356e+01, 6.7949e+02, 8.8590e+01,\n",
      "         9.6394e+02, 7.4584e+02, 4.6058e+02, 3.7150e+02, 5.3440e+02, 6.8596e+02,\n",
      "         9.2787e+02, 8.1726e+02, 8.3167e+02, 6.7507e+02, 8.7134e+02, 3.7810e+02,\n",
      "         4.5117e+02, 9.3145e+02, 6.3509e+02, 8.8805e+02, 8.3948e+02, 7.0577e+02,\n",
      "         7.5316e+02, 8.5484e+02, 9.5260e+02, 9.0498e+02, 7.5496e+00, 9.7441e+02,\n",
      "         3.2974e+02, 9.3747e+02, 9.7009e+02, 9.6814e+02]], dtype=torch.float64,\n",
      "       grad_fn=<SoftplusBackward0>)\n",
      "torch.return_types.topk(\n",
      "values=tensor([[0.7444, 0.7444, 0.7489, 2.6280, 6.4332, 7.5496]], dtype=torch.float64,\n",
      "       grad_fn=<TopkBackward0>),\n",
      "indices=tensor([[12, 17,  3,  1,  0, 94]]))\n"
     ]
    }
   ],
   "source": [
    "base_kernel = MaternKernel(ard_num_dims=D)\n",
    "add_saas_prior(base_kernel, tau=0.1)\n",
    "covar_module = ScaleKernel(base_kernel)\n",
    "gp = FixedNoiseGP(\n",
    "    train_X=train_X,\n",
    "    train_Y=train_Y,\n",
    "    train_Yvar=1e-6 * torch.ones_like(train_Y),\n",
    "    covar_module=covar_module,\n",
    ")\n",
    "mll = ExactMarginalLogLikelihood(model=gp, likelihood=gp.likelihood)\n",
    "base_kernel._set_lengthscale(1e3)  # Initialize to 1e3\n",
    "fit_gpytorch_scipy(\n",
    "    mll, bounds={\"model.covar_module.base_kernel.raw_lengthscale\": [0.1, 1e3]}\n",
    ")\n",
    "\n",
    "learned_lengthscales = gp.covar_module.base_kernel.lengthscale\n",
    "print(learned_lengthscales)\n",
    "print(torch.topk(learned_lengthscales, 6, largest = False))"
   ]
  },
  {
   "cell_type": "code",
   "execution_count": 15,
   "id": "941cd2d7",
   "metadata": {},
   "outputs": [
    {
     "ename": "AttributeError",
     "evalue": "'FixedNoiseGP' object has no attribute 'pyro_model'",
     "output_type": "error",
     "traceback": [
      "\u001b[0;31m---------------------------------------------------------------------------\u001b[0m",
      "\u001b[0;31mAttributeError\u001b[0m                            Traceback (most recent call last)",
      "\u001b[0;32m~/anaconda3/envs/saasbo/lib/python3.9/site-packages/gpytorch/module.py\u001b[0m in \u001b[0;36m__getattr__\u001b[0;34m(self, name)\u001b[0m\n\u001b[1;32m    432\u001b[0m             \u001b[0;32mtry\u001b[0m\u001b[0;34m:\u001b[0m\u001b[0;34m\u001b[0m\u001b[0;34m\u001b[0m\u001b[0m\n\u001b[0;32m--> 433\u001b[0;31m                 \u001b[0;32mreturn\u001b[0m \u001b[0msuper\u001b[0m\u001b[0;34m(\u001b[0m\u001b[0;34m)\u001b[0m\u001b[0;34m.\u001b[0m\u001b[0m__getattribute__\u001b[0m\u001b[0;34m(\u001b[0m\u001b[0mname\u001b[0m\u001b[0;34m)\u001b[0m\u001b[0;34m\u001b[0m\u001b[0;34m\u001b[0m\u001b[0m\n\u001b[0m\u001b[1;32m    434\u001b[0m             \u001b[0;32mexcept\u001b[0m \u001b[0mAttributeError\u001b[0m\u001b[0;34m:\u001b[0m\u001b[0;34m\u001b[0m\u001b[0;34m\u001b[0m\u001b[0m\n",
      "\u001b[0;31mAttributeError\u001b[0m: 'FixedNoiseGP' object has no attribute 'pyro_model'",
      "\nDuring handling of the above exception, another exception occurred:\n",
      "\u001b[0;31mAttributeError\u001b[0m                            Traceback (most recent call last)",
      "\u001b[0;32m/tmp/ipykernel_4152203/876404195.py\u001b[0m in \u001b[0;36m<module>\u001b[0;34m\u001b[0m\n\u001b[0;32m----> 1\u001b[0;31m \u001b[0mfit_fully_bayesian_model_nuts\u001b[0m\u001b[0;34m(\u001b[0m\u001b[0mgp\u001b[0m\u001b[0;34m)\u001b[0m\u001b[0;34m\u001b[0m\u001b[0;34m\u001b[0m\u001b[0m\n\u001b[0m",
      "\u001b[0;32m~/anaconda3/envs/saasbo/lib/python3.9/site-packages/botorch/fit.py\u001b[0m in \u001b[0;36mfit_fully_bayesian_model_nuts\u001b[0;34m(model, max_tree_depth, warmup_steps, num_samples, thinning, disable_progbar)\u001b[0m\n\u001b[1;32m    389\u001b[0m     \u001b[0;31m# Do inference with NUTS\u001b[0m\u001b[0;34m\u001b[0m\u001b[0;34m\u001b[0m\u001b[0m\n\u001b[1;32m    390\u001b[0m     nuts = NUTS(\n\u001b[0;32m--> 391\u001b[0;31m         \u001b[0mmodel\u001b[0m\u001b[0;34m.\u001b[0m\u001b[0mpyro_model\u001b[0m\u001b[0;34m.\u001b[0m\u001b[0msample\u001b[0m\u001b[0;34m,\u001b[0m\u001b[0;34m\u001b[0m\u001b[0;34m\u001b[0m\u001b[0m\n\u001b[0m\u001b[1;32m    392\u001b[0m         \u001b[0mjit_compile\u001b[0m\u001b[0;34m=\u001b[0m\u001b[0;32mTrue\u001b[0m\u001b[0;34m,\u001b[0m\u001b[0;34m\u001b[0m\u001b[0;34m\u001b[0m\u001b[0m\n\u001b[1;32m    393\u001b[0m         \u001b[0mfull_mass\u001b[0m\u001b[0;34m=\u001b[0m\u001b[0;32mTrue\u001b[0m\u001b[0;34m,\u001b[0m\u001b[0;34m\u001b[0m\u001b[0;34m\u001b[0m\u001b[0m\n",
      "\u001b[0;32m~/anaconda3/envs/saasbo/lib/python3.9/site-packages/gpytorch/module.py\u001b[0m in \u001b[0;36m__getattr__\u001b[0;34m(self, name)\u001b[0m\n\u001b[1;32m    433\u001b[0m                 \u001b[0;32mreturn\u001b[0m \u001b[0msuper\u001b[0m\u001b[0;34m(\u001b[0m\u001b[0;34m)\u001b[0m\u001b[0;34m.\u001b[0m\u001b[0m__getattribute__\u001b[0m\u001b[0;34m(\u001b[0m\u001b[0mname\u001b[0m\u001b[0;34m)\u001b[0m\u001b[0;34m\u001b[0m\u001b[0;34m\u001b[0m\u001b[0m\n\u001b[1;32m    434\u001b[0m             \u001b[0;32mexcept\u001b[0m \u001b[0mAttributeError\u001b[0m\u001b[0;34m:\u001b[0m\u001b[0;34m\u001b[0m\u001b[0;34m\u001b[0m\u001b[0m\n\u001b[0;32m--> 435\u001b[0;31m                 \u001b[0;32mraise\u001b[0m \u001b[0me\u001b[0m\u001b[0;34m\u001b[0m\u001b[0;34m\u001b[0m\u001b[0m\n\u001b[0m\u001b[1;32m    436\u001b[0m \u001b[0;34m\u001b[0m\u001b[0m\n\u001b[1;32m    437\u001b[0m \u001b[0;34m\u001b[0m\u001b[0m\n",
      "\u001b[0;32m~/anaconda3/envs/saasbo/lib/python3.9/site-packages/gpytorch/module.py\u001b[0m in \u001b[0;36m__getattr__\u001b[0;34m(self, name)\u001b[0m\n\u001b[1;32m    428\u001b[0m     \u001b[0;32mdef\u001b[0m \u001b[0m__getattr__\u001b[0m\u001b[0;34m(\u001b[0m\u001b[0mself\u001b[0m\u001b[0;34m,\u001b[0m \u001b[0mname\u001b[0m\u001b[0;34m)\u001b[0m\u001b[0;34m:\u001b[0m\u001b[0;34m\u001b[0m\u001b[0;34m\u001b[0m\u001b[0m\n\u001b[1;32m    429\u001b[0m         \u001b[0;32mtry\u001b[0m\u001b[0;34m:\u001b[0m\u001b[0;34m\u001b[0m\u001b[0;34m\u001b[0m\u001b[0m\n\u001b[0;32m--> 430\u001b[0;31m             \u001b[0;32mreturn\u001b[0m \u001b[0msuper\u001b[0m\u001b[0;34m(\u001b[0m\u001b[0;34m)\u001b[0m\u001b[0;34m.\u001b[0m\u001b[0m__getattr__\u001b[0m\u001b[0;34m(\u001b[0m\u001b[0mname\u001b[0m\u001b[0;34m)\u001b[0m\u001b[0;34m\u001b[0m\u001b[0;34m\u001b[0m\u001b[0m\n\u001b[0m\u001b[1;32m    431\u001b[0m         \u001b[0;32mexcept\u001b[0m \u001b[0mAttributeError\u001b[0m \u001b[0;32mas\u001b[0m \u001b[0me\u001b[0m\u001b[0;34m:\u001b[0m\u001b[0;34m\u001b[0m\u001b[0;34m\u001b[0m\u001b[0m\n\u001b[1;32m    432\u001b[0m             \u001b[0;32mtry\u001b[0m\u001b[0;34m:\u001b[0m\u001b[0;34m\u001b[0m\u001b[0;34m\u001b[0m\u001b[0m\n",
      "\u001b[0;32m~/anaconda3/envs/saasbo/lib/python3.9/site-packages/torch/nn/modules/module.py\u001b[0m in \u001b[0;36m__getattr__\u001b[0;34m(self, name)\u001b[0m\n\u001b[1;32m   1183\u001b[0m             \u001b[0;32mif\u001b[0m \u001b[0mname\u001b[0m \u001b[0;32min\u001b[0m \u001b[0mmodules\u001b[0m\u001b[0;34m:\u001b[0m\u001b[0;34m\u001b[0m\u001b[0;34m\u001b[0m\u001b[0m\n\u001b[1;32m   1184\u001b[0m                 \u001b[0;32mreturn\u001b[0m \u001b[0mmodules\u001b[0m\u001b[0;34m[\u001b[0m\u001b[0mname\u001b[0m\u001b[0;34m]\u001b[0m\u001b[0;34m\u001b[0m\u001b[0;34m\u001b[0m\u001b[0m\n\u001b[0;32m-> 1185\u001b[0;31m         raise AttributeError(\"'{}' object has no attribute '{}'\".format(\n\u001b[0m\u001b[1;32m   1186\u001b[0m             type(self).__name__, name))\n\u001b[1;32m   1187\u001b[0m \u001b[0;34m\u001b[0m\u001b[0m\n",
      "\u001b[0;31mAttributeError\u001b[0m: 'FixedNoiseGP' object has no attribute 'pyro_model'"
     ]
    }
   ],
   "source": [
    "fit_fully_bayesian_model_nuts(gp)"
   ]
  },
  {
   "cell_type": "code",
   "execution_count": null,
   "id": "f2c25aaa",
   "metadata": {},
   "outputs": [],
   "source": []
  }
 ],
 "metadata": {
  "interpreter": {
   "hash": "162d8b865b0c2a4822ceb44acd026e9a0d1c198ebcd7620f328ab40fe82fa992"
  },
  "kernelspec": {
   "display_name": "Python 3.9.11 ('saasbo')",
   "language": "python",
   "name": "python3"
  },
  "language_info": {
   "codemirror_mode": {
    "name": "ipython",
    "version": 3
   },
   "file_extension": ".py",
   "mimetype": "text/x-python",
   "name": "python",
   "nbconvert_exporter": "python",
   "pygments_lexer": "ipython3",
   "version": "3.9.11"
  }
 },
 "nbformat": 4,
 "nbformat_minor": 5
}
