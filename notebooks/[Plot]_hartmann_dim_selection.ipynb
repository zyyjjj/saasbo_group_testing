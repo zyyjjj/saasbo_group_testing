{
 "cells": [
  {
   "cell_type": "code",
   "execution_count": 1,
   "metadata": {},
   "outputs": [],
   "source": [
    "import numpy as np\n",
    "import matplotlib.pyplot as plt\n",
    "import torch"
   ]
  },
  {
   "cell_type": "code",
   "execution_count": 2,
   "metadata": {},
   "outputs": [],
   "source": [
    "output_path = \"/home/yz685/saasbo_group_testing/experiments/hartmann_50/\"\n",
    "num_trials = 100"
   ]
  },
  {
   "cell_type": "code",
   "execution_count": 3,
   "metadata": {},
   "outputs": [
    {
     "data": {
      "text/plain": [
       "{'trial_idx': 0,\n",
       " 'emb_indices': array([28, 11, 10, 41,  2, 27]),\n",
       " 'seq_bif': [{'perturb_option': 'ub', 'num_correct': 6, 'num_samples': 37},\n",
       "  {'perturb_option': 'lb', 'num_correct': 6, 'num_samples': 37},\n",
       "  {'perturb_option': 'random', 'num_correct': 6, 'num_samples': 37}],\n",
       " 'saasgp': [{'num_correct': 1, 'num_samples': 25},\n",
       "  {'num_correct': 1, 'num_samples': 50},\n",
       "  {'num_correct': 2, 'num_samples': 75},\n",
       "  {'num_correct': 2, 'num_samples': 100}]}"
      ]
     },
     "execution_count": 3,
     "metadata": {},
     "output_type": "execute_result"
    }
   ],
   "source": [
    "trial_idx = 0\n",
    "torch.load(output_path + f\"dim_selection_trial={trial_idx}.th\")"
   ]
  },
  {
   "cell_type": "code",
   "execution_count": 4,
   "metadata": {},
   "outputs": [],
   "source": [
    "outputs = []\n",
    "\n",
    "for trial_idx in range(num_trials):\n",
    "    outputs.append(torch.load(output_path + f\"dim_selection_trial={trial_idx}.th\"))"
   ]
  },
  {
   "cell_type": "code",
   "execution_count": 5,
   "metadata": {},
   "outputs": [],
   "source": [
    "seq_bif_num_samples = []\n",
    "for output in outputs:\n",
    "    seq_bif_num_samples.append(output['seq_bif'][0]['num_samples'])"
   ]
  },
  {
   "cell_type": "code",
   "execution_count": 6,
   "metadata": {},
   "outputs": [
    {
     "data": {
      "text/plain": [
       "(array([ 1.,  1.,  3.,  6.,  9.,  9., 13., 29., 15., 14.]),\n",
       " array([27. , 29.2, 31.4, 33.6, 35.8, 38. , 40.2, 42.4, 44.6, 46.8, 49. ]),\n",
       " <BarContainer object of 10 artists>)"
      ]
     },
     "execution_count": 6,
     "metadata": {},
     "output_type": "execute_result"
    },
    {
     "data": {
      "image/png": "[encoded data removed]",
      "text/plain": [
       "<Figure size 432x288 with 1 Axes>"
      ]
     },
     "metadata": {
      "needs_background": "light"
     },
     "output_type": "display_data"
    }
   ],
   "source": [
    "plt.title('Number of samples required for sequential bifurcation')\n",
    "plt.hist(seq_bif_num_samples)\n",
    "\n",
    "# sequential bifurcation identifies all dims correctly, since evaluations are noiseless for now"
   ]
  },
  {
   "cell_type": "code",
   "execution_count": 7,
   "metadata": {},
   "outputs": [],
   "source": [
    "from collections import defaultdict\n",
    "\n",
    "saasgp_num_correct = defaultdict(list)\n",
    "\n",
    "for output in outputs:\n",
    "\n",
    "    for subresult in output['saasgp']:\n",
    "\n",
    "        saasgp_num_correct[subresult['num_samples']].append(subresult['num_correct'])\n"
   ]
  },
  {
   "cell_type": "code",
   "execution_count": 8,
   "metadata": {},
   "outputs": [
    {
     "data": {
      "text/plain": [
       "Text(0.5, 1.05, '# important dimensions out of 6 that SAASGP correctly identified')"
      ]
     },
     "execution_count": 8,
     "metadata": {},
     "output_type": "execute_result"
    },
    {
     "data": {
      "image/png": "[encoded data removed]",
      "text/plain": [
       "<Figure size 864x216 with 4 Axes>"
      ]
     },
     "metadata": {
      "needs_background": "light"
     },
     "output_type": "display_data"
    }
   ],
   "source": [
    "fig, axs = plt.subplots(1,4,figsize=(12,3))\n",
    "\n",
    "index_mapping = {0: 25, 1: 50, 2: 75, 3: 100}\n",
    "\n",
    "for i in index_mapping:\n",
    "    axs[i].hist(saasgp_num_correct[index_mapping[i]])\n",
    "    axs[i].set_title(f\"{index_mapping[i]} samples\")\n",
    "\n",
    "fig.suptitle('# important dimensions out of 6 that SAASGP correctly identified', y=1.05)\n",
    "\n",
    "\n"
   ]
  },
  {
   "cell_type": "code",
   "execution_count": null,
   "metadata": {},
   "outputs": [],
   "source": []
  }
 ],
 "metadata": {
  "kernelspec": {
   "display_name": "saasbo",
   "language": "python",
   "name": "python3"
  },
  "language_info": {
   "codemirror_mode": {
    "name": "ipython",
    "version": 3
   },
   "file_extension": ".py",
   "mimetype": "text/x-python",
   "name": "python",
   "nbconvert_exporter": "python",
   "pygments_lexer": "ipython3",
   "version": "3.9.11"
  },
  "orig_nbformat": 4,
  "vscode": {
   "interpreter": {
    "hash": "162d8b865b0c2a4822ceb44acd026e9a0d1c198ebcd7620f328ab40fe82fa992"
   }
  }
 },
 "nbformat": 4,
 "nbformat_minor": 2
}
